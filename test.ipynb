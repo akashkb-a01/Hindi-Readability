{
 "cells": [
  {
   "cell_type": "code",
   "execution_count": 69,
   "metadata": {},
   "outputs": [],
   "source": [
    "hi_str = \"नमस्ते दुनिया सत्य कर्म हत्या अनुचित्य मृत्यु प्यार स्नान आत्मा महात्मा पत्र वक्र यक्ष कक्ष यज्ञ शुद्ध क्रुद्ध गोत्र अक्षर श्रवण श्रावण\" "
   ]
  },
  {
   "cell_type": "code",
   "execution_count": 1,
   "metadata": {},
   "outputs": [],
   "source": [
    "inps = '''भारत में जन-आंदोलनों का लंबा इतिहास रहा है। पिछले दो-तीन दशकों में शहरी एवं शिक्षित मध्यवर्गीय लोगों के बीच इस मसले पर सचेत समझदारी विकसित हुई है। विकास के आधुनिक संस्करण ने पारिस्थितिकीय संतुलन एवं विकास प्राथमिकताओं के मध्य द्वद्द की स्थिति खड़ी कर दी है। इसने कई जन आंदोलनों को जन्म दिया है। 70 का दशक सामाजिक आंदोलनों के लिहाज से बहुत सकल र्ण है। सामाजिक आंदोलनों के संदर्भ में इसे पैराडाइम शिफ्ट की तरह देखा जाता है| इसी दशक में महाआख्यानों के बरक्स छोटे मुद्दों ने वैश्विक स्तर पर अपनी छाप छोड़ी। चाहे वह महिला आंदोलन हो या फिर मानवाधिकार आंदोलन या फिर मध्य वर्ग के आंदोलन हो या शांति आंदोलन। पर्यावरणीय आंदोलन इसी क्रम में एक महत्वपूर्ण कड़ी समझी जाती है। यह आंदोलन सन 973 में एक सुबह शुरू हुआ जब चमोली जिले के सुदूर पहाड़ी कस्बे गोपेश्वर में इलाहाबाद की खेल का सामान बनाने वाली फैक्ट्री के लोग देवदार के दस वृक्ष काटने के उद्देश्य से पहुँचे। आरंभ में ग्रामीणों ने अनुरोध किया कि वे वृक्ष ना काटें परंतु जब ठेकेदार नहीं माने तब ग्रामीणों ने चिन्हित वृक्षों का घेराव किया और उससे चिपक गए। पराजित ठेकेदारों को विवश होकर वापस जाना पड़ा। कुछ सप्ताह बाद ठेकेदार पुनः वापस आए और उन्होंने फिर पेड़ काटने की कोशिश की। 50 वर्षीय गौरा देवी के नेतृत्व में स्त्रियों ने इसका प्रतिरोध करते हुए जंगल जाने वाले मार्ग को अवरुद्ध कर दिया। उनका कहना था कि ‘यह जंगल हमारा मायका है और हम पूरी ताकत से इसे बचाएँगी’।\n",
    "\n",
    "इस आंदोलन की अग्रिम पंक्ति की सैनिक महिलाएँ थीं जिनका कार्यक्षेत्र घर के अंदर चौके और चूल्हे तक सीमित माना जाता है। भारत में जंगल को लेकर दो तरह के दृष्टिकोण विद्यमान हैं। पहला है जीवनोत्पादक तथा दूसरा है जीवन विनाशक जिसे दूसरे शब्दों में ‘औद्योगिक भौतिकवादी दृष्टिकोण’ भी कहा जाता है। जीवनोत्पादक इृष्टिकोण जंगल के संसाधनों की निरंतरता तथा उनमें नवीन संभावनाओं को स्वीकार करता है ताकि भोजन तथा जल संसाधनों का कभी ना खत्म होने वाला भंडार बना\n",
    "\n",
    "रहे। जीवन विनाशक दृष्टिकोण कारखानों तथा बाजार से बँधा हुआ है जो जंगल के संसाधनों का अधिकाधिक दोहन अपने व्यावसायिक लाभ के लिए करना चाहता है। आंदोलन के आरंभिक दिनों बाहरी ठेकेदारों को भगाने में स्थानीय ठेकेदारों ने भी इनका भरपूर सहयोग किया क्‍योंकि इनके व्यावसायिक हित भी बाधित हो रहे थे, परंतु उनके जाने के बाद एक सरकारी निकाय (द फॉरैस्ट डेवेलपमेंट कारपोरेशन) ने फिर वहाँ के स्थानीय ठेकेदारों की सहायता से लकड़ी कटाई का कार्य शुरू किया। स्त्रियों नेयह देखते हुए अपने आंदोलन को आगे बढ़ाते हुए जंगल के दोहन के विरुद्ध अपना संघर्ष जारी रखा। वन विभाग के कई अधिकारियों ने स्त्रियों को यह समझाने का भी प्रयास किया कि जंगल लकड़ी का मुनाफा देते है। इसलिए उन्हें वे काट रहे हैं और जो लकड़ियाँ काटी जा रही है उनका जंगल के लिए कोई उपयोग नहीं है। वे जर्जर और ठूँठ है। महिलाओं ने उन्हें समझाया कि दरअसल यह जंगल के नवीनीकरण की प्रक्रिया है जिसमें पुराने तथा जर्जर हुए पेड़ नए पेड़ों के लिए जैविक खाद का कार्य करते हैं। जंगल के संबंध में महिलाओं की समझ ने चिपको आंदोलन को एक नई दिशा दी।\n",
    "'''"
   ]
  },
  {
   "attachments": {},
   "cell_type": "markdown",
   "metadata": {},
   "source": [
    "## ASL"
   ]
  },
  {
   "cell_type": "code",
   "execution_count": 2,
   "metadata": {},
   "outputs": [],
   "source": [
    "def asl(inp):\n",
    "    inp = inp.split('।')\n",
    "    sentence_cnt = len(inp)\n",
    "    word_cnt = 0\n",
    "    for sentence in inp:\n",
    "        words = sentence.strip().split(' ')\n",
    "        word_cnt += len(words)\n",
    "    # print(f'Sentence Count: {sentence_cnt}')\n",
    "    # print(f'Word Count: {word_cnt}')\n",
    "    # print(f'ASL: {word_cnt/sentence_cnt}')\n",
    "    return word_cnt/sentence_cnt"
   ]
  },
  {
   "attachments": {},
   "cell_type": "markdown",
   "metadata": {},
   "source": [
    "## AWL"
   ]
  },
  {
   "cell_type": "code",
   "execution_count": 8,
   "metadata": {},
   "outputs": [],
   "source": [
    "def awl(inp):\n",
    "    words = inp.split(' ')\n",
    "    words_f = len(words)\n",
    "    word_len = 0\n",
    "    for word in words:\n",
    "        # word_len = 0\n",
    "        for _ in word:\n",
    "            if ord(_) >= ord('अ') and ord(_) <= ord('ह'):\n",
    "                word_len += 1\n",
    "        # print(f'{word}: {word_len}')\n",
    "    return word_len/words_f"
   ]
  },
  {
   "attachments": {},
   "cell_type": "markdown",
   "metadata": {},
   "source": [
    "## Matra Count"
   ]
  },
  {
   "cell_type": "code",
   "execution_count": 9,
   "metadata": {},
   "outputs": [],
   "source": [
    "def matra_cnt(inp):\n",
    "    words = inp.split(' ')\n",
    "    polysyll = 0\n",
    "    for word in words:\n",
    "        matra_cnt = 0\n",
    "        for ind,_ in enumerate(word):\n",
    "            if ord(_) >= ord('अ') and ord(_) <= ord('औ'):\n",
    "                matra_cnt += 2\n",
    "                if _ == 'अ' or _ == 'इ' or _ == 'उ' or _ == 'ऋ':\n",
    "                    matra_cnt -= 1\n",
    "            if ord(_) >= ord('ा') and ord(_) <= ord('ौ'):\n",
    "                matra_cnt += 1\n",
    "                if ord(_) == ord('ि') or ord(_) == ord('ु') or _ == 'ृ' or _ == 'ँ':\n",
    "                    matra_cnt -= 1\n",
    "            elif ord(_) >= ord('क') and ord(_) <= ord('ह'):\n",
    "                matra_cnt += 1\n",
    "            elif _ == '्':\n",
    "                if ind >= 2:\n",
    "                    matra_cnt += 1\n",
    "                    if ord(word[ind-2]) >= ord('क') and ord(word[ind-2]) <= ord('ह'):\n",
    "                        matra_cnt -= 1\n",
    "                    elif word[ind-2] == 'ि' or word[ind-2] == 'ु' or word[ind-2] == 'ृ' or word[ind-2] == 'ँ':\n",
    "                        matra_cnt -= 1\n",
    "                    elif ord(word[ind-2]) >= ord('ा') and ord(word[ind-2]) <= ord('ौ'):\n",
    "                        matra_cnt -= 2\n",
    "                    elif word[ind-2] == 'अ' or word[ind-2] == 'इ' or word[ind-2] == 'उ' or word[ind-2] == 'ऋ':\n",
    "                        matra_cnt -= 1\n",
    "                    elif ord(word[ind-2]) >= ord('आ') and ord(word[ind-2]) <= ord('औ'):\n",
    "                        matra_cnt -= 2\n",
    "                else:\n",
    "                    matra_cnt -= 1\n",
    "        if matra_cnt > 2:\n",
    "            polysyll += 1\n",
    "    return polysyll\n",
    "        # print(f'{word}: {matra_cnt}')"
   ]
  },
  {
   "cell_type": "code",
   "execution_count": 10,
   "metadata": {},
   "outputs": [
    {
     "data": {
      "text/plain": [
       "2.5251937984496124"
      ]
     },
     "execution_count": 10,
     "metadata": {},
     "output_type": "execute_result"
    }
   ],
   "source": [
    "awl(inps)"
   ]
  },
  {
   "cell_type": "code",
   "execution_count": 11,
   "metadata": {},
   "outputs": [
    {
     "data": {
      "text/plain": [
       "19.185185185185187"
      ]
     },
     "execution_count": 11,
     "metadata": {},
     "output_type": "execute_result"
    }
   ],
   "source": [
    "asl(inps)"
   ]
  },
  {
   "cell_type": "code",
   "execution_count": 12,
   "metadata": {},
   "outputs": [
    {
     "data": {
      "text/plain": [
       "344"
      ]
     },
     "execution_count": 12,
     "metadata": {},
     "output_type": "execute_result"
    }
   ],
   "source": [
    "matra_cnt(inps)"
   ]
  },
  {
   "cell_type": "code",
   "execution_count": 95,
   "metadata": {},
   "outputs": [],
   "source": [
    "def model(inp):\n",
    "    return [awl(inp),asl(inp),matra_cnt(inp)]"
   ]
  },
  {
   "cell_type": "code",
   "execution_count": 60,
   "metadata": {},
   "outputs": [],
   "source": [
    "import os\n",
    "import numpy as np"
   ]
  },
  {
   "cell_type": "code",
   "execution_count": 96,
   "metadata": {},
   "outputs": [
    {
     "name": "stdout",
     "output_type": "stream",
     "text": [
      "Class 5.txt: [2.034029389017788, 15.415254237288135, 2330]\n",
      "Class 6.txt: [1.9924281790512954, 7.004728132387707, 7701]\n",
      "Class 7.txt: [2.196326109391125, 15.304347826086957, 14514]\n",
      "Class 12.txt: [2.2745935197099074, 24.045387994143486, 10443]\n",
      "Class 11.txt: [2.2079103738549146, 18.227110582639714, 9784]\n",
      "Class 4.txt: [2.112054794520548, 14.382716049382717, 2223]\n",
      "Class 2.txt: [1.6801493466085875, 14.30622009569378, 1689]\n",
      "Class 9.txt: [2.1487230846269405, 14.987240829346092, 5897]\n",
      "Class 1.txt: [1.1619385342789599, 18.569767441860463, 609]\n",
      "Class 8.txt: [2.43395968256864, 88.0, 14212]\n",
      "Class 13.txt: [2.066588183356633, 17.218498659517426, 8182]\n",
      "Class 10.txt: [2.4018108023727756, 23.21410579345088, 6043]\n",
      "Class 3.txt: [1.7870408584399504, 13.074712643678161, 1356]\n"
     ]
    }
   ],
   "source": [
    "dic = {}\n",
    "for i in os.listdir('./train'):\n",
    "    txt = ''''''\n",
    "    with open(f'./train/{i}', 'r') as f:\n",
    "        for line in f:\n",
    "            txt += line\n",
    "    print(f'{i}: {model(txt)}')\n",
    "    dic[int(i.split(' ')[1].split('.')[0])] = model(txt)"
   ]
  },
  {
   "cell_type": "code",
   "execution_count": 97,
   "metadata": {},
   "outputs": [
    {
     "data": {
      "text/plain": [
       "{1: [1.1619385342789599, 18.569767441860463, 609],\n",
       " 2: [1.6801493466085875, 14.30622009569378, 1689],\n",
       " 3: [1.7870408584399504, 13.074712643678161, 1356],\n",
       " 4: [2.112054794520548, 14.382716049382717, 2223],\n",
       " 5: [2.034029389017788, 15.415254237288135, 2330],\n",
       " 6: [1.9924281790512954, 7.004728132387707, 7701],\n",
       " 7: [2.196326109391125, 15.304347826086957, 14514],\n",
       " 8: [2.43395968256864, 88.0, 14212],\n",
       " 9: [2.1487230846269405, 14.987240829346092, 5897],\n",
       " 10: [2.4018108023727756, 23.21410579345088, 6043],\n",
       " 11: [2.2079103738549146, 18.227110582639714, 9784],\n",
       " 12: [2.2745935197099074, 24.045387994143486, 10443],\n",
       " 13: [2.066588183356633, 17.218498659517426, 8182]}"
      ]
     },
     "execution_count": 97,
     "metadata": {},
     "output_type": "execute_result"
    }
   ],
   "source": [
    "dic = dict(sorted(dic.items()))\n",
    "dic"
   ]
  },
  {
   "cell_type": "code",
   "execution_count": 98,
   "metadata": {},
   "outputs": [],
   "source": [
    "y = np.array(list(dic.keys()))\n",
    "x = np.array(list(dic.values()))"
   ]
  },
  {
   "cell_type": "code",
   "execution_count": 99,
   "metadata": {},
   "outputs": [],
   "source": [
    "from sklearn import linear_model"
   ]
  },
  {
   "cell_type": "code",
   "execution_count": 100,
   "metadata": {},
   "outputs": [
    {
     "data": {
      "text/html": [
       "<style>#sk-container-id-2 {color: black;background-color: white;}#sk-container-id-2 pre{padding: 0;}#sk-container-id-2 div.sk-toggleable {background-color: white;}#sk-container-id-2 label.sk-toggleable__label {cursor: pointer;display: block;width: 100%;margin-bottom: 0;padding: 0.3em;box-sizing: border-box;text-align: center;}#sk-container-id-2 label.sk-toggleable__label-arrow:before {content: \"▸\";float: left;margin-right: 0.25em;color: #696969;}#sk-container-id-2 label.sk-toggleable__label-arrow:hover:before {color: black;}#sk-container-id-2 div.sk-estimator:hover label.sk-toggleable__label-arrow:before {color: black;}#sk-container-id-2 div.sk-toggleable__content {max-height: 0;max-width: 0;overflow: hidden;text-align: left;background-color: #f0f8ff;}#sk-container-id-2 div.sk-toggleable__content pre {margin: 0.2em;color: black;border-radius: 0.25em;background-color: #f0f8ff;}#sk-container-id-2 input.sk-toggleable__control:checked~div.sk-toggleable__content {max-height: 200px;max-width: 100%;overflow: auto;}#sk-container-id-2 input.sk-toggleable__control:checked~label.sk-toggleable__label-arrow:before {content: \"▾\";}#sk-container-id-2 div.sk-estimator input.sk-toggleable__control:checked~label.sk-toggleable__label {background-color: #d4ebff;}#sk-container-id-2 div.sk-label input.sk-toggleable__control:checked~label.sk-toggleable__label {background-color: #d4ebff;}#sk-container-id-2 input.sk-hidden--visually {border: 0;clip: rect(1px 1px 1px 1px);clip: rect(1px, 1px, 1px, 1px);height: 1px;margin: -1px;overflow: hidden;padding: 0;position: absolute;width: 1px;}#sk-container-id-2 div.sk-estimator {font-family: monospace;background-color: #f0f8ff;border: 1px dotted black;border-radius: 0.25em;box-sizing: border-box;margin-bottom: 0.5em;}#sk-container-id-2 div.sk-estimator:hover {background-color: #d4ebff;}#sk-container-id-2 div.sk-parallel-item::after {content: \"\";width: 100%;border-bottom: 1px solid gray;flex-grow: 1;}#sk-container-id-2 div.sk-label:hover label.sk-toggleable__label {background-color: #d4ebff;}#sk-container-id-2 div.sk-serial::before {content: \"\";position: absolute;border-left: 1px solid gray;box-sizing: border-box;top: 0;bottom: 0;left: 50%;z-index: 0;}#sk-container-id-2 div.sk-serial {display: flex;flex-direction: column;align-items: center;background-color: white;padding-right: 0.2em;padding-left: 0.2em;position: relative;}#sk-container-id-2 div.sk-item {position: relative;z-index: 1;}#sk-container-id-2 div.sk-parallel {display: flex;align-items: stretch;justify-content: center;background-color: white;position: relative;}#sk-container-id-2 div.sk-item::before, #sk-container-id-2 div.sk-parallel-item::before {content: \"\";position: absolute;border-left: 1px solid gray;box-sizing: border-box;top: 0;bottom: 0;left: 50%;z-index: -1;}#sk-container-id-2 div.sk-parallel-item {display: flex;flex-direction: column;z-index: 1;position: relative;background-color: white;}#sk-container-id-2 div.sk-parallel-item:first-child::after {align-self: flex-end;width: 50%;}#sk-container-id-2 div.sk-parallel-item:last-child::after {align-self: flex-start;width: 50%;}#sk-container-id-2 div.sk-parallel-item:only-child::after {width: 0;}#sk-container-id-2 div.sk-dashed-wrapped {border: 1px dashed gray;margin: 0 0.4em 0.5em 0.4em;box-sizing: border-box;padding-bottom: 0.4em;background-color: white;}#sk-container-id-2 div.sk-label label {font-family: monospace;font-weight: bold;display: inline-block;line-height: 1.2em;}#sk-container-id-2 div.sk-label-container {text-align: center;}#sk-container-id-2 div.sk-container {/* jupyter's `normalize.less` sets `[hidden] { display: none; }` but bootstrap.min.css set `[hidden] { display: none !important; }` so we also need the `!important` here to be able to override the default hidden behavior on the sphinx rendered scikit-learn.org. See: https://github.com/scikit-learn/scikit-learn/issues/21755 */display: inline-block !important;position: relative;}#sk-container-id-2 div.sk-text-repr-fallback {display: none;}</style><div id=\"sk-container-id-2\" class=\"sk-top-container\"><div class=\"sk-text-repr-fallback\"><pre>LinearRegression()</pre><b>In a Jupyter environment, please rerun this cell to show the HTML representation or trust the notebook. <br />On GitHub, the HTML representation is unable to render, please try loading this page with nbviewer.org.</b></div><div class=\"sk-container\" hidden><div class=\"sk-item\"><div class=\"sk-estimator sk-toggleable\"><input class=\"sk-toggleable__control sk-hidden--visually\" id=\"sk-estimator-id-2\" type=\"checkbox\" checked><label for=\"sk-estimator-id-2\" class=\"sk-toggleable__label sk-toggleable__label-arrow\">LinearRegression</label><div class=\"sk-toggleable__content\"><pre>LinearRegression()</pre></div></div></div></div></div>"
      ],
      "text/plain": [
       "LinearRegression()"
      ]
     },
     "execution_count": 100,
     "metadata": {},
     "output_type": "execute_result"
    }
   ],
   "source": [
    "reg = linear_model.LinearRegression()\n",
    "reg.fit(x,y)"
   ]
  },
  {
   "cell_type": "code",
   "execution_count": 102,
   "metadata": {},
   "outputs": [
    {
     "data": {
      "text/plain": [
       "array([ 6.32004967e+00, -4.70656069e-02,  3.30719853e-04])"
      ]
     },
     "execution_count": 102,
     "metadata": {},
     "output_type": "execute_result"
    }
   ],
   "source": [
    "reg.coef_"
   ]
  },
  {
   "cell_type": "code",
   "execution_count": 105,
   "metadata": {},
   "outputs": [],
   "source": [
    "dic = {}\n",
    "for i in os.listdir('./test'):\n",
    "    txt = ''''''\n",
    "    with open(f'./test/{i}', 'r') as f:\n",
    "        for line in f:\n",
    "            txt += line\n",
    "    # print(f'{i}: {model(txt)}')\n",
    "    # print(np.array(model(txt)).shape)\n",
    "    y = reg.predict(np.array(model(txt)).reshape(1,3))\n",
    "    dic[int(i.split(' ')[1].split('.')[0])] = y"
   ]
  },
  {
   "cell_type": "code",
   "execution_count": 106,
   "metadata": {},
   "outputs": [
    {
     "data": {
      "text/plain": [
       "{1: array([-0.77831815]),\n",
       " 2: array([3.10771989]),\n",
       " 3: array([4.43203327]),\n",
       " 4: array([6.10227738]),\n",
       " 5: array([5.94596962]),\n",
       " 6: array([7.24391497]),\n",
       " 7: array([9.388269]),\n",
       " 8: array([9.07614006]),\n",
       " 9: array([6.5038272]),\n",
       " 10: array([8.17073428]),\n",
       " 11: array([7.83507928]),\n",
       " 12: array([8.28462544]),\n",
       " 13: array([6.57519628])}"
      ]
     },
     "execution_count": 106,
     "metadata": {},
     "output_type": "execute_result"
    }
   ],
   "source": [
    "dic = dict(sorted(dic.items()))\n",
    "dic"
   ]
  },
  {
   "cell_type": "code",
   "execution_count": 107,
   "metadata": {},
   "outputs": [
    {
     "data": {
      "text/plain": [
       "[<matplotlib.lines.Line2D at 0x7f20563ace50>]"
      ]
     },
     "execution_count": 107,
     "metadata": {},
     "output_type": "execute_result"
    },
    {
     "data": {
      "image/png": "[encoded data removed]",
      "text/plain": [
       "<Figure size 640x480 with 1 Axes>"
      ]
     },
     "metadata": {},
     "output_type": "display_data"
    }
   ],
   "source": [
    "plt.plot(dic.keys(),dic.values())"
   ]
  },
  {
   "cell_type": "code",
   "execution_count": 92,
   "metadata": {},
   "outputs": [],
   "source": [
    "import matplotlib.pyplot as plt"
   ]
  },
  {
   "cell_type": "code",
   "execution_count": 65,
   "metadata": {},
   "outputs": [
    {
     "name": "stdout",
     "output_type": "stream",
     "text": [
      "न\n",
      "म\n",
      "स\n",
      "्\n",
      "त\n",
      "े\n",
      " \n",
      "द\n",
      "ु\n",
      "न\n",
      "ि\n",
      "य\n",
      "ा\n",
      " \n",
      "स\n",
      "त\n",
      "्\n",
      "य\n",
      " \n",
      "क\n",
      "र\n",
      "्\n",
      "म\n",
      " \n",
      "ह\n",
      "त\n",
      "्\n",
      "य\n",
      "ा\n",
      " \n",
      "अ\n",
      "न\n",
      "ु\n",
      "च\n",
      "ि\n",
      "त\n",
      "्\n",
      "य\n",
      " \n",
      "म\n",
      "ृ\n",
      "त\n",
      "्\n",
      "य\n",
      "ु\n",
      " \n",
      "प\n",
      "्\n",
      "य\n",
      "ा\n",
      "र\n",
      " \n",
      "स\n",
      "्\n",
      "न\n",
      "ा\n",
      "न\n",
      " \n",
      "आ\n",
      "त\n",
      "्\n",
      "म\n",
      "ा\n",
      " \n",
      "म\n",
      "ह\n",
      "ा\n",
      "त\n",
      "्\n",
      "म\n",
      "ा\n",
      " \n",
      "प\n",
      "त\n",
      "्\n",
      "र\n",
      " \n",
      "व\n",
      "क\n",
      "्\n",
      "र\n",
      " \n",
      "य\n",
      "क\n",
      "्\n",
      "ष\n",
      " \n",
      "क\n",
      "क\n",
      "्\n",
      "ष\n",
      " \n",
      "य\n",
      "ज\n",
      "्\n",
      "ञ\n",
      " \n",
      "श\n",
      "ु\n",
      "द\n",
      "्\n",
      "ध\n",
      " \n",
      "क\n",
      "्\n",
      "र\n",
      "ु\n",
      "द\n",
      "्\n",
      "ध\n",
      " \n",
      "ग\n",
      "ो\n",
      "त\n",
      "्\n",
      "र\n",
      " \n",
      "अ\n",
      "क\n",
      "्\n",
      "ष\n",
      "र\n"
     ]
    }
   ],
   "source": [
    "for _ in hi_str:\n",
    "    print(_)"
   ]
  },
  {
   "cell_type": "code",
   "execution_count": 6,
   "metadata": {},
   "outputs": [
    {
     "name": "stdout",
     "output_type": "stream",
     "text": [
      "औ\n"
     ]
    }
   ],
   "source": [
    "print(chr(ord('क')-1))"
   ]
  },
  {
   "cell_type": "code",
   "execution_count": 45,
   "metadata": {},
   "outputs": [
    {
     "name": "stdout",
     "output_type": "stream",
     "text": [
      "अ\n",
      "आ\n",
      "इ\n",
      "ई\n",
      "उ\n",
      "ऊ\n",
      "ऋ\n",
      "ऌ\n",
      "ऍ\n",
      "ऎ\n",
      "ए\n",
      "ऐ\n",
      "ऑ\n",
      "ऒ\n",
      "ओ\n",
      "औ\n",
      "क\n",
      "ख\n",
      "ग\n",
      "घ\n",
      "ङ\n",
      "च\n",
      "छ\n",
      "ज\n",
      "झ\n",
      "ञ\n",
      "ट\n",
      "ठ\n",
      "ड\n",
      "ढ\n",
      "ण\n",
      "त\n",
      "थ\n",
      "द\n",
      "ध\n",
      "न\n",
      "ऩ\n",
      "प\n",
      "फ\n",
      "ब\n",
      "भ\n",
      "म\n",
      "य\n",
      "र\n",
      "ऱ\n",
      "ल\n",
      "ळ\n",
      "ऴ\n",
      "व\n",
      "श\n",
      "ष\n",
      "स\n",
      "ह\n",
      "ऺ\n",
      "ऻ\n",
      "़\n",
      "ऽ\n",
      "ा\n",
      "ि\n",
      "ी\n",
      "ु\n",
      "ू\n",
      "ृ\n",
      "ॄ\n",
      "ॅ\n",
      "ॆ\n",
      "े\n",
      "ै\n",
      "ॉ\n",
      "ॊ\n",
      "ो\n",
      "ौ\n",
      "्\n",
      "ॎ\n",
      "ॏ\n",
      "ॐ\n",
      "॑\n",
      "॒\n",
      "॓\n",
      "॔\n",
      "ॕ\n",
      "ॖ\n",
      "ॗ\n",
      "क़\n",
      "ख़\n",
      "ग़\n",
      "ज़\n",
      "ड़\n",
      "ढ़\n",
      "फ़\n",
      "य़\n",
      "ॠ\n",
      "ॡ\n",
      "ॢ\n",
      "ॣ\n",
      "।\n",
      "॥\n",
      "०\n",
      "१\n",
      "२\n",
      "३\n",
      "४\n",
      "५\n",
      "६\n",
      "७\n",
      "८\n",
      "९\n",
      "॰\n",
      "ॱ\n",
      "ॲ\n",
      "ॳ\n",
      "ॴ\n",
      "ॵ\n",
      "ॶ\n",
      "ॷ\n",
      "ॸ\n",
      "ॹ\n",
      "ॺ\n",
      "ॻ\n",
      "ॼ\n",
      "ॽ\n",
      "ॾ\n",
      "ॿ\n",
      "ঀ\n",
      "ঁ\n",
      "ং\n",
      "ঃ\n",
      "঄\n",
      "অ\n",
      "আ\n",
      "ই\n",
      "ঈ\n",
      "উ\n",
      "ঊ\n",
      "ঋ\n",
      "ঌ\n",
      "঍\n",
      "঎\n",
      "এ\n",
      "ঐ\n",
      "঑\n",
      "঒\n",
      "ও\n",
      "ঔ\n",
      "ক\n",
      "খ\n",
      "গ\n",
      "ঘ\n",
      "ঙ\n",
      "চ\n",
      "ছ\n",
      "জ\n",
      "ঝ\n",
      "ঞ\n",
      "ট\n",
      "ঠ\n",
      "ড\n",
      "ঢ\n",
      "ণ\n",
      "ত\n",
      "থ\n",
      "দ\n",
      "ধ\n",
      "ন\n",
      "঩\n",
      "প\n",
      "ফ\n",
      "ব\n",
      "ভ\n",
      "ম\n",
      "য\n",
      "র\n",
      "঱\n",
      "ল\n",
      "঳\n",
      "঴\n",
      "঵\n",
      "শ\n",
      "ষ\n",
      "স\n",
      "হ\n",
      "঺\n",
      "঻\n",
      "়\n",
      "ঽ\n",
      "া\n",
      "ি\n",
      "ী\n",
      "ু\n",
      "ূ\n",
      "ৃ\n",
      "ৄ\n",
      "৅\n",
      "৆\n",
      "ে\n",
      "ৈ\n",
      "৉\n",
      "৊\n",
      "ো\n",
      "ৌ\n"
     ]
    }
   ],
   "source": [
    "for i in range(ord('अ'),ord('अ')+200):\n",
    "    print(chr(i))"
   ]
  },
  {
   "cell_type": "code",
   "execution_count": 71,
   "metadata": {},
   "outputs": [
    {
     "name": "stdout",
     "output_type": "stream",
     "text": [
      "अ\n",
      "क\n",
      "्\n",
      "ष\n",
      "र\n",
      " \n",
      "श\n",
      "्\n",
      "र\n",
      "व\n",
      "ण\n",
      " \n",
      "श\n",
      "्\n",
      "र\n",
      "ा\n",
      "व\n",
      "ण\n"
     ]
    }
   ],
   "source": [
    "hui = \"अक्षर श्रवण श्रावण\"\n",
    "for _ in hui:\n",
    "    print(_)"
   ]
  },
  {
   "cell_type": "code",
   "execution_count": 72,
   "metadata": {},
   "outputs": [
    {
     "data": {
      "text/plain": [
       "True"
      ]
     },
     "execution_count": 72,
     "metadata": {},
     "output_type": "execute_result"
    }
   ],
   "source": [
    "kshya = \"क्ष\"\n",
    "shra = \"श्र\"\n",
    "tra\n",
    "jui = \"अक्षर\"\n",
    "kshya in jui"
   ]
  },
  {
   "cell_type": "code",
   "execution_count": null,
   "metadata": {},
   "outputs": [],
   "source": []
  }
 ],
 "metadata": {
  "kernelspec": {
   "display_name": "Python 3",
   "language": "python",
   "name": "python3"
  },
  "language_info": {
   "codemirror_mode": {
    "name": "ipython",
    "version": 3
   },
   "file_extension": ".py",
   "mimetype": "text/x-python",
   "name": "python",
   "nbconvert_exporter": "python",
   "pygments_lexer": "ipython3",
   "version": "3.10.6"
  },
  "orig_nbformat": 4
 },
 "nbformat": 4,
 "nbformat_minor": 2
}
