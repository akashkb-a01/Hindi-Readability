{
 "cells": [
  {
   "cell_type": "code",
   "execution_count": 1,
   "metadata": {},
   "outputs": [],
   "source": [
    "def asl(inp):\n",
    "    inp = inp.split('।')\n",
    "    sentence_cnt = len(inp)\n",
    "    word_cnt = 0\n",
    "    for sentence in inp:\n",
    "        words = sentence.strip().split(' ')\n",
    "        word_cnt += len(words)\n",
    "    return word_cnt/sentence_cnt"
   ]
  },
  {
   "cell_type": "code",
   "execution_count": 2,
   "metadata": {},
   "outputs": [],
   "source": [
    "def awl(inp):\n",
    "    words = inp.split(' ')\n",
    "    words_f = len(words)\n",
    "    word_len = 0\n",
    "    for word in words:\n",
    "        # word_len = 0\n",
    "        for _ in word:\n",
    "            if ord(_) >= ord('अ') and ord(_) <= ord('ह'):\n",
    "                word_len += 1\n",
    "        # print(f'{word}: {word_len}')\n",
    "    return word_len/words_f"
   ]
  },
  {
   "cell_type": "code",
   "execution_count": 11,
   "metadata": {},
   "outputs": [],
   "source": [
    "def matra_cnt(inp):\n",
    "    words = inp.split(' ')\n",
    "    polysyll = 0\n",
    "    syll_cnt = 0\n",
    "    juk_cnt = 0\n",
    "    for word in words:\n",
    "        matra_cnt = 0\n",
    "        for ind,_ in enumerate(word):\n",
    "            if ord(_) >= ord('अ') and ord(_) <= ord('औ'):\n",
    "                matra_cnt += 2\n",
    "                if _ == 'अ' or _ == 'इ' or _ == 'उ' or _ == 'ऋ':\n",
    "                    matra_cnt -= 1\n",
    "            if ord(_) >= ord('ा') and ord(_) <= ord('ौ'):\n",
    "                matra_cnt += 1\n",
    "                if ord(_) == ord('ि') or ord(_) == ord('ु') or _ == 'ृ' or _ == 'ँ':\n",
    "                    matra_cnt -= 1\n",
    "            elif ord(_) >= ord('क') and ord(_) <= ord('ह'):\n",
    "                matra_cnt += 1\n",
    "            elif _ == '्':\n",
    "                juk_cnt += 1\n",
    "                if ind >= 2:\n",
    "                    matra_cnt += 1\n",
    "                    if ord(word[ind-2]) >= ord('क') and ord(word[ind-2]) <= ord('ह'):\n",
    "                        matra_cnt -= 1\n",
    "                    elif word[ind-2] == 'ि' or word[ind-2] == 'ु' or word[ind-2] == 'ृ' or word[ind-2] == 'ँ':\n",
    "                        matra_cnt -= 1\n",
    "                    elif ord(word[ind-2]) >= ord('ा') and ord(word[ind-2]) <= ord('ौ'):\n",
    "                        matra_cnt -= 2\n",
    "                    elif word[ind-2] == 'अ' or word[ind-2] == 'इ' or word[ind-2] == 'उ' or word[ind-2] == 'ऋ':\n",
    "                        matra_cnt -= 1\n",
    "                    elif ord(word[ind-2]) >= ord('आ') and ord(word[ind-2]) <= ord('औ'):\n",
    "                        matra_cnt -= 2\n",
    "                else:\n",
    "                    matra_cnt -= 1\n",
    "        syll_cnt += matra_cnt\n",
    "        if matra_cnt > 2:\n",
    "            polysyll += 1\n",
    "    return (polysyll, syll_cnt, juk_cnt)"
   ]
  },
  {
   "cell_type": "code",
   "execution_count": 38,
   "metadata": {},
   "outputs": [],
   "source": [
    "def model(inp):\n",
    "    ret_li = [awl(inp),asl(inp)]\n",
    "    ret_li.extend(list((matra_cnt(inp))))\n",
    "    return ret_li"
   ]
  },
  {
   "cell_type": "code",
   "execution_count": 5,
   "metadata": {},
   "outputs": [],
   "source": [
    "import os\n",
    "import numpy as np\n",
    "from sklearn import linear_model\n",
    "import matplotlib.pyplot as plt"
   ]
  },
  {
   "cell_type": "code",
   "execution_count": 39,
   "metadata": {},
   "outputs": [
    {
     "data": {
      "text/plain": [
       "{1: [1.1619385342789599, 18.569767441860463, 609, 2973, 76],\n",
       " 2: [1.6801493466085875, 14.30622009569378, 1689, 8171, 125],\n",
       " 3: [1.7870408584399504, 13.074712643678161, 1356, 6482, 114],\n",
       " 4: [2.112054794520548, 14.382716049382717, 2223, 11367, 303],\n",
       " 5: [2.034029389017788, 15.415254237288135, 2330, 11617, 292],\n",
       " 6: [1.9924281790512954, 7.004728132387707, 7701, 38651, 1667],\n",
       " 7: [2.196326109391125, 15.304347826086957, 14514, 75103, 3589],\n",
       " 8: [2.43395968256864, 88.0, 14212, 74581, 4012],\n",
       " 9: [2.1487230846269405, 14.987240829346092, 5897, 31140, 1300],\n",
       " 10: [2.4018108023727756, 23.21410579345088, 6043, 32492, 1561],\n",
       " 11: [2.2079103738549146, 18.227110582639714, 9784, 51885, 1952],\n",
       " 12: [2.2745935197099074, 24.045387994143486, 10443, 56059, 2168],\n",
       " 13: [2.066588183356633, 17.218498659517426, 8182, 41749, 931]}"
      ]
     },
     "execution_count": 39,
     "metadata": {},
     "output_type": "execute_result"
    }
   ],
   "source": [
    "dic = {}\n",
    "for i in os.listdir('./train'):\n",
    "    txt = ''''''\n",
    "    with open(f'./train/{i}', 'r') as f:\n",
    "        for line in f:\n",
    "            txt += line\n",
    "    dic[int(i.split(' ')[1].split('.')[0])] = model(txt)\n",
    "dic = dict(sorted(dic.items()))\n",
    "dic"
   ]
  },
  {
   "cell_type": "code",
   "execution_count": 40,
   "metadata": {},
   "outputs": [],
   "source": [
    "y = np.array(list(dic.keys()))\n",
    "x = np.array(list(dic.values()))"
   ]
  },
  {
   "cell_type": "code",
   "execution_count": 41,
   "metadata": {},
   "outputs": [
    {
     "data": {
      "text/html": [
       "<style>#sk-container-id-3 {color: black;background-color: white;}#sk-container-id-3 pre{padding: 0;}#sk-container-id-3 div.sk-toggleable {background-color: white;}#sk-container-id-3 label.sk-toggleable__label {cursor: pointer;display: block;width: 100%;margin-bottom: 0;padding: 0.3em;box-sizing: border-box;text-align: center;}#sk-container-id-3 label.sk-toggleable__label-arrow:before {content: \"▸\";float: left;margin-right: 0.25em;color: #696969;}#sk-container-id-3 label.sk-toggleable__label-arrow:hover:before {color: black;}#sk-container-id-3 div.sk-estimator:hover label.sk-toggleable__label-arrow:before {color: black;}#sk-container-id-3 div.sk-toggleable__content {max-height: 0;max-width: 0;overflow: hidden;text-align: left;background-color: #f0f8ff;}#sk-container-id-3 div.sk-toggleable__content pre {margin: 0.2em;color: black;border-radius: 0.25em;background-color: #f0f8ff;}#sk-container-id-3 input.sk-toggleable__control:checked~div.sk-toggleable__content {max-height: 200px;max-width: 100%;overflow: auto;}#sk-container-id-3 input.sk-toggleable__control:checked~label.sk-toggleable__label-arrow:before {content: \"▾\";}#sk-container-id-3 div.sk-estimator input.sk-toggleable__control:checked~label.sk-toggleable__label {background-color: #d4ebff;}#sk-container-id-3 div.sk-label input.sk-toggleable__control:checked~label.sk-toggleable__label {background-color: #d4ebff;}#sk-container-id-3 input.sk-hidden--visually {border: 0;clip: rect(1px 1px 1px 1px);clip: rect(1px, 1px, 1px, 1px);height: 1px;margin: -1px;overflow: hidden;padding: 0;position: absolute;width: 1px;}#sk-container-id-3 div.sk-estimator {font-family: monospace;background-color: #f0f8ff;border: 1px dotted black;border-radius: 0.25em;box-sizing: border-box;margin-bottom: 0.5em;}#sk-container-id-3 div.sk-estimator:hover {background-color: #d4ebff;}#sk-container-id-3 div.sk-parallel-item::after {content: \"\";width: 100%;border-bottom: 1px solid gray;flex-grow: 1;}#sk-container-id-3 div.sk-label:hover label.sk-toggleable__label {background-color: #d4ebff;}#sk-container-id-3 div.sk-serial::before {content: \"\";position: absolute;border-left: 1px solid gray;box-sizing: border-box;top: 0;bottom: 0;left: 50%;z-index: 0;}#sk-container-id-3 div.sk-serial {display: flex;flex-direction: column;align-items: center;background-color: white;padding-right: 0.2em;padding-left: 0.2em;position: relative;}#sk-container-id-3 div.sk-item {position: relative;z-index: 1;}#sk-container-id-3 div.sk-parallel {display: flex;align-items: stretch;justify-content: center;background-color: white;position: relative;}#sk-container-id-3 div.sk-item::before, #sk-container-id-3 div.sk-parallel-item::before {content: \"\";position: absolute;border-left: 1px solid gray;box-sizing: border-box;top: 0;bottom: 0;left: 50%;z-index: -1;}#sk-container-id-3 div.sk-parallel-item {display: flex;flex-direction: column;z-index: 1;position: relative;background-color: white;}#sk-container-id-3 div.sk-parallel-item:first-child::after {align-self: flex-end;width: 50%;}#sk-container-id-3 div.sk-parallel-item:last-child::after {align-self: flex-start;width: 50%;}#sk-container-id-3 div.sk-parallel-item:only-child::after {width: 0;}#sk-container-id-3 div.sk-dashed-wrapped {border: 1px dashed gray;margin: 0 0.4em 0.5em 0.4em;box-sizing: border-box;padding-bottom: 0.4em;background-color: white;}#sk-container-id-3 div.sk-label label {font-family: monospace;font-weight: bold;display: inline-block;line-height: 1.2em;}#sk-container-id-3 div.sk-label-container {text-align: center;}#sk-container-id-3 div.sk-container {/* jupyter's `normalize.less` sets `[hidden] { display: none; }` but bootstrap.min.css set `[hidden] { display: none !important; }` so we also need the `!important` here to be able to override the default hidden behavior on the sphinx rendered scikit-learn.org. See: https://github.com/scikit-learn/scikit-learn/issues/21755 */display: inline-block !important;position: relative;}#sk-container-id-3 div.sk-text-repr-fallback {display: none;}</style><div id=\"sk-container-id-3\" class=\"sk-top-container\"><div class=\"sk-text-repr-fallback\"><pre>LinearRegression()</pre><b>In a Jupyter environment, please rerun this cell to show the HTML representation or trust the notebook. <br />On GitHub, the HTML representation is unable to render, please try loading this page with nbviewer.org.</b></div><div class=\"sk-container\" hidden><div class=\"sk-item\"><div class=\"sk-estimator sk-toggleable\"><input class=\"sk-toggleable__control sk-hidden--visually\" id=\"sk-estimator-id-3\" type=\"checkbox\" checked><label for=\"sk-estimator-id-3\" class=\"sk-toggleable__label sk-toggleable__label-arrow\">LinearRegression</label><div class=\"sk-toggleable__content\"><pre>LinearRegression()</pre></div></div></div></div></div>"
      ],
      "text/plain": [
       "LinearRegression()"
      ]
     },
     "execution_count": 41,
     "metadata": {},
     "output_type": "execute_result"
    }
   ],
   "source": [
    "reg = linear_model.LinearRegression()\n",
    "reg.fit(x,y)"
   ]
  },
  {
   "cell_type": "code",
   "execution_count": 42,
   "metadata": {},
   "outputs": [
    {
     "data": {
      "text/plain": [
       "array([ 4.45587281e+00,  1.11655207e-02, -5.59376589e-03,  1.43351529e-03,\n",
       "       -6.34877257e-03])"
      ]
     },
     "execution_count": 42,
     "metadata": {},
     "output_type": "execute_result"
    }
   ],
   "source": [
    "reg.coef_"
   ]
  },
  {
   "cell_type": "code",
   "execution_count": 45,
   "metadata": {},
   "outputs": [
    {
     "data": {
      "text/plain": [
       "{1: array([-0.37558649]),\n",
       " 2: array([2.75085127]),\n",
       " 3: array([3.4636344]),\n",
       " 4: array([5.0598668]),\n",
       " 5: array([4.81458026]),\n",
       " 6: array([4.22953334]),\n",
       " 7: array([3.77274148]),\n",
       " 8: array([8.42591055]),\n",
       " 9: array([6.63604335]),\n",
       " 10: array([7.16077842]),\n",
       " 11: array([8.40672533]),\n",
       " 12: array([10.38288049]),\n",
       " 13: array([8.46682321])}"
      ]
     },
     "execution_count": 45,
     "metadata": {},
     "output_type": "execute_result"
    }
   ],
   "source": [
    "dic = {}\n",
    "for i in os.listdir('./test'):\n",
    "    txt = ''''''\n",
    "    with open(f'./test/{i}', 'r') as f:\n",
    "        for line in f:\n",
    "            txt += line\n",
    "    y = reg.predict(np.array(model(txt)).reshape(1,5))\n",
    "    dic[int(i.split(' ')[1].split('.')[0])] = y\n",
    "dic = dict(sorted(dic.items()))\n",
    "dic"
   ]
  },
  {
   "cell_type": "code",
   "execution_count": 46,
   "metadata": {},
   "outputs": [
    {
     "data": {
      "text/plain": [
       "[<matplotlib.lines.Line2D at 0x7ff4c33bd330>]"
      ]
     },
     "execution_count": 46,
     "metadata": {},
     "output_type": "execute_result"
    },
    {
     "data": {
      "image/png": "[encoded data removed]",
      "text/plain": [
       "<Figure size 640x480 with 1 Axes>"
      ]
     },
     "metadata": {},
     "output_type": "display_data"
    }
   ],
   "source": [
    "plt.plot(dic.keys(),dic.values())"
   ]
  },
  {
   "cell_type": "code",
   "execution_count": null,
   "metadata": {},
   "outputs": [],
   "source": []
  }
 ],
 "metadata": {
  "kernelspec": {
   "display_name": "Python 3",
   "language": "python",
   "name": "python3"
  },
  "language_info": {
   "codemirror_mode": {
    "name": "ipython",
    "version": 3
   },
   "file_extension": ".py",
   "mimetype": "text/x-python",
   "name": "python",
   "nbconvert_exporter": "python",
   "pygments_lexer": "ipython3",
   "version": "3.10.6"
  },
  "orig_nbformat": 4
 },
 "nbformat": 4,
 "nbformat_minor": 2
}
