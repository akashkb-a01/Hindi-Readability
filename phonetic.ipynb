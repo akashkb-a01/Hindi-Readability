{
 "cells": [
  {
   "cell_type": "code",
   "execution_count": 1,
   "metadata": {},
   "outputs": [],
   "source": [
    "from unidecode import unidecode"
   ]
  },
  {
   "cell_type": "code",
   "execution_count": 28,
   "metadata": {},
   "outputs": [],
   "source": [
    "text = ''''''\n",
    "with open('./data/Class 1.txt', 'r') as f:\n",
    "    for line in f:\n",
    "        text += line.strip() + ' '"
   ]
  },
  {
   "cell_type": "code",
   "execution_count": 29,
   "metadata": {},
   "outputs": [],
   "source": [
    "decoded_txt = unidecode(text)"
   ]
  },
  {
   "cell_type": "code",
   "execution_count": 30,
   "metadata": {},
   "outputs": [],
   "source": [
    "from indic_transliteration import sanscript\n",
    "from indic_transliteration.sanscript import SchemeMap, SCHEMES, transliterate"
   ]
  },
  {
   "cell_type": "code",
   "execution_count": 37,
   "metadata": {},
   "outputs": [],
   "source": [
    "vowels = {'ँ': 'n', 'ं': 'n', 'ः': 'a', 'अ': 'a', 'आ': 'aa', 'इ': 'i', 'ई': 'ee', 'उ': 'u', 'ऊ': 'oo', 'ऋ': 'ri', 'ए': 'e', 'ऐ': 'ae', 'ओ': 'o', 'औ': 'au', 'ा': 'a', 'ि': 'i', 'ी': 'i', 'ु': 'u', 'ू': 'oo', 'ृ': 'ri', 'े': 'e', 'ै': 'ai', 'ो': 'o', 'ौ': 'au'}\n",
    "consonants = {'क': 'k', 'ख': 'kh', 'ग': 'g', 'घ': 'gh', 'ङ': 'ng', 'च': 'ch', 'छ': 'chh', 'ज': 'j', 'ज़': 'z', 'ज़': 'z', 'झ': 'jh', 'ञ': 'nj', 'ट': 't', 'ठ': 'th', 'ड': 'd', 'ड़': 'r', 'ड़': 'r', 'ढ': 'dh', 'ण': 'n', 'त': 't', 'थ': 'th', 'द': 'd', 'ध': 'dh', 'न': 'n', 'प': 'p', 'फ': 'ph', 'फ़': 'f', 'फ़': 'f', 'ब': 'b', 'भ': 'bh', 'म': 'm', 'य': 'y', 'र': 'r', 'ल': 'l', 'व': 'v', 'श': 'sh', 'ष': 'sh', 'स': 's', 'ह': 'h', 'क्ष': 'ksh', 'त्र': 'tr', 'ज्ञ': 'gy'}"
   ]
  },
  {
   "cell_type": "code",
   "execution_count": 38,
   "metadata": {},
   "outputs": [],
   "source": [
    "def devan_to_roman_rith(content):\n",
    "  str1 = \"\"\n",
    "\n",
    "  for x in content:\n",
    "    for y in x.split():\n",
    "      for i in range(len(y)):\n",
    "        if (i+1<len(y) and y[i+1].strip()==' ़'.strip()):\n",
    "          c = y[i]+y[i+1]\n",
    "          p=2\n",
    "        else:\n",
    "          c = y[i]\n",
    "          p=1\n",
    "        if (c in vowels.keys()):\n",
    "          str1 = str1 + vowels[c]\n",
    "        elif (c in consonants.keys()):\n",
    "          if(i+p<len(y) and y[i+p] in consonants.keys()):\n",
    "            if ((c=='झ' and i!=0) or (i!=0 and i+p+1<len(y) and y[i+p+1] in vowels.keys())): # add 'a' after 'jh', only if झ appears in the starting of the word\n",
    "              str1 = str1 + consonants[c]\n",
    "            else:\n",
    "              str1 = str1 + consonants[c]+'a'\n",
    "          else:\n",
    "            str1 = str1 + consonants[c]\n",
    "        elif y[i] in ['\\n','\\t',' ','!',',','।','-',':','\\\\','_','?'] or c.isalnum():\n",
    "          str1 = str1 + c.replace('।','.')\n",
    "      str1 = str1 + \" \"\n",
    "    str1 = str1 + \"\\n\"\n",
    "\n",
    "  return str1.strip()"
   ]
  },
  {
   "cell_type": "code",
   "execution_count": 39,
   "metadata": {},
   "outputs": [],
   "source": [
    "rith_txt = devan_to_roman_rith(text.split('\\n'))"
   ]
  },
  {
   "cell_type": "code",
   "execution_count": 40,
   "metadata": {},
   "outputs": [
    {
     "data": {
      "text/plain": [
       "'yahan do toliyan hain. ek aesi toli jiske namon men m aata hai.doosri aesi toli jiske namon men n aata hai.ab tum bhi kaksha men jhatapat aesi toliyan banao. dauri-dauriaaee pakauri.chhun-chhun chhun-chhuntel men nachi,plet men aasharmaee pakauri.hath se uchhlimunhmen pahunchi,pet men jaghabraee pakauri. mere man kobhaee pakauri. chhuk-chhuk-chhuk chal di rel,shuroo huaa ab apna khel.ndiya jngal pichhe chhoote,aa gaya apna ganv sumel.iski rel n uski rel,ye to hai ham sabki rel. aaj rasoeeghar ki khirki,munna-munni khol rahe hain.andar dekha, chakla-belan,chavooph-chhalni bol rahe hain.main chakoo, sabji -palak katoon,tukra-tukra sabko bantoon.gajar-mooli pyaj -tmatar,chhilo kato rakho sajakar. gol chand-si hoon main thali,baj sakti hoon banakar tali.mujhmen roti-sabjidali,aur sabhi ne jhatapat kha li. patila choolhe ke niche hai.chooha angithi ke andar hai.tokri men aam rakhe hain.akshay chaval bin raha hai.man khana bana rahi hain.aale men lalten rakhi hai. dadi kitab pढ़ rahi hain.suhani khirki se jhank rahi hai. ghar ke pichhe,chhat ke niche,pnav pasare,pn oochh sn vare.dekho koee,mausi soee,nason men se,snason men se.ghar ghar ghar ghar ho rahi hai,chooho! myaoon so rahi hai.billi soee,khuli rasoee,bhre patile,chne rasile.ulto matka,dekar jhatka,jo kuchh pao,chat kar jao.aaj hamara doodh dahi hai. mn oochh maroro,pn oochh sikoro,niche utro,chije kutro .aaj hamara,raj hamara,kro tabahi,jo manchahi.aaj machi hai,chooha shahi,dar kuchh bhi choohon ko nahin hai. hamne tin chije dekhin,dada tin chije dekhin.ek dal par thi ik makri,lakri par baithi thi makri,makri kha rahi thi kakri.kakri, lakri, makri.ek khet men thi kuchh baloo,baloo par baitha tha bhaloo,bhaloo kha raha tha aaloo.aaloo, baloo, bhaloo. sar-sar sar-sar uri patng,paphar-paphar paphar-paphar uri patng.isko kata, usko kata,khoob lagaya sair sapata.ab larne men juti patng,are kat gee, luti patng.sar-sar sar-sar uri patng,phar-phar phar-phar uri patng. gend ne balle se kaha tum mujhe kyon marte ho?balle ne kaha maroon nahin to khel kaise ho?gned jab balle ke pas aaee to usne use jor se mara.gend kudakti -phudakti door jakar ek jhari men chhip gee.balla use dhoonढ़ta raha, dhoonढ़ta raha. dhoonढ़te-dhoonढ़te sham ho gee.andhera ghirne laga. gend khush thi ki balla pareshan ho raha hai.balla nirash hokar laut chala. tabhi gend ne jhari men se chillakar kaha main yahan hoon.aao, mujhe le lo.balle ne use jhari ke niche se khinchakar uthaliya. gend ne kaha dekho, ab mujhe marna mat. bndar gaya khet men bhag,chutur-mutur tora sag.aag jalakar chutur-mutur,sag pakaya khaddar-baddar.sapar-soopar khaya khoob,ponchha mnuh ukharakar doob.chalni bichha, oढ़kar soop,datakar soe bndar bhoop. kahin ek buढ़iya thi jiska nam nahin tha kuchh bhi, vah din bhar khali rahti thi kam nahin tha kuchh bhi.kam n hone se uskoaaram nahin tha kuchh bhi,dopahri, din, rat, sabere,sham nahin thi kuchh bhi. ek ande men se battakh ka bachcha nikla.lo, main ande men se nikal aaya battakh ka bachcha bola.main ghoomne ja raha hoon - battakh ka bachcha bola. main bhi chaloonga - chooja bola.ek aur ande men se murgi ka choojanikla. main bhi aa gaya -choojabola.main gaddha khod raha hoon - battakh ka bachcha bola.main bhi khodoonga -chooja bola.mujhe ek kenchuaa mila - battakh ka bachcha bola.mujhe bhi - chooja bola.mainne ek titli pakri -battakh ka bachcha bola.mainne bhi titli pakri - chooja bola.main tairna chahta hn oo - battakh kabachcha bola.main bhi - chooja bola.dekho main tair raha hn oo -battakh ka bachcha bola.battakh ke bachche ne chooje ko panise bahar nikala. ek murgi thi. murgi ke do chooje the.ek ka nam tha laloo. doosre ka nam tha piloo.laloo lal chishen khata tha.piloo pili chije khata tha.ek din laloo ne ek paudhe par kuchh lal-lal dekha.laloo ne use kha liya.are, yah to lal mirch thi!laloo ki jibh jalne lagi. vah rone laga.murgi dauri huee aaee. piloo bhi bhaga. vah pile-pile gurka tukra le aaya.laloo ne jhat gur khaya. uske munh ki jalan thik ho gee.murgi ne laloo aur piloo ko lipta liya. chakee ke chakdum ,chkee ke chakdum !ganv ki madaiya ,sath rahen ham - tum. gvale ki gaiya , doodh pien ham - tum. kagaz ki naiya , par karen ham - tum. phulva ki bagiya , phool chunen ham - tum. khel khatam bhaiya ! aao chalen ham - tum ! samarsinh the bahut akarte ,chhoti , kitni chhoti. main hoon aaloo bhara parantha ,chhoti patli roti. main hoon lnba , mota tagara , chhoti patli dubli. main mota patasan ka rassa ,chhoti kachchi sutli. lekin jab baithe si - s par ,hosh thikane aae ,chhoti ja pahunchi choti par ,samarsinh chakrae. mota - tagara samarsinh niche rah gaya. patli - dubli chhoti oopar pahunch gee. paisa pas hota to char chane late ,char men se ek chana tote ko khilate. tote ko khilate to tany - tany gata ,tany - tany gata to bara maza aata. char men se ek chana ghore ko khilate. ghore ko khilate to pith par bithata ,pith par bithata to bara maza aata. char men se ek chana choohe ko khilate. choohe ko khilate to dant toot jata ,dant toot jata to bara maza aata. buiya chala rahi thi chakki ,poore sath varsh ki pakki. done men thi rakhi mithaee ,us par urakar makkhi aaee. buiya bans uthakar dauri,billi khane lagi pakauri. jhapti buiya ghar ke andar ,kutta bhaga roti lekar. buiya tab phir nikli bahar ,bakra ghusa turnt hi bhitar. buiya chali , gir gaya matka ,tab tak vah bakra bhi satka. buiya baith gee tab thakakar ,saunp diya billi ko hi ghar. halim ne ek din socha , aaj main chand par jaoonga. vah rket ke karkhane men gaya aur ek rket par baithakar chal diya. chalte - chalte andhera ho gaya. halim ko dar lagne laga. usko to chand tak ka rasta pata nahin tha. thori der men usne chand dekha aur vah khush ho gaya. chand par halim ko khoob sare gadde dikhe aur bare - bare pahar bhi. lekin vahan koee per ya janavar nahin the. log bhi nahin. halim ne socha - ye bhi koee jagah hai !chlo  vapis ghar chalen. vah rket men baithakar ghar laut aaya. hallam hallam hauda , hathi challam challam ,ham baithe hathi par , hathi hallam hallam. lnbi lnbi lnd phataphat , phattar phattar lnbe lnbe dant khatakhat , khattar khattar. bhari bhari moond matakta , jhammam jhammam ,hallam hallam hauda , hathi challam challam. parvat jaisi deh thulthuli , thallal thallal halar halar deh hile , jab hathi challal khnbhe jaise panv dhapadhap , bate ghammam ,hallam hallam hauda , hathi challam challam. hathi jaisi nahin savari , aggar - baggar pilvan puchchhan baitha hai , bandhe paggar baithe bachche bich sabhi ham , daggam daggam , hallam hallam hauda , hathi challam challam. dinabhar ghoomenge hathi par , hallar hallar hathi dada , jara nach do , thallar thallar are nahin , ham gir jaenge ghammam ghammam ,hallam hallam hauda , hathi challam challam. ek tha chooha. us choohe ki sat poochhe thin. sab use chiate  sat poonchh ka chooha , sat poonchh ka chooha. tng aakar chooha gaya naee ke pas. usne naee se kaha  e naee ,meri ek poonchh kat do. naee ne ek poonchh kat di. ab uske pas bachi sirph chhah poonchhe. agle din jaise hi chooha bahar nikla , sab use chiane lage chhah poonchh ka chooha , chhah poonchh ka chooha. chooha phir se tng aa gaya. vah gaya naee ke pas. usne kaha  e naee , meri ek poonchh aur kat do. naee ne ek poonchh aur kat di. ab uske pas bachi sirph panch poonchhe. par agle din sab use phir se chiane lage  panch poonchh ka chooha , panch poonchh ka chooha. chooha gaya naee ke pas - e naee , meri ek poonchh aur kat do. naee ne ek poonchh aur kat di. ab uske pas bachi sirf char poonchhe. par sab use phir se chiane lage  char poonchh ka chooha , char poonchh ka chooha. chooha gaya naee ke pas. naee ne ek poonchh aur kat di. ab uske pas bachin sirph tin poonchhe.par sab use chiate tin poonchh ka chooha , tin poonchh ka chooha. chooha gaya naee ke pas. naee ne ek poonchh aur kat di. ab uske pas bachi do hi poonchhe. par sab use chiate  do poonchh ka chooha , do poonchh ka chooha. to chooha gaya naee ke pas. naee ne ek poonchh aur kat di. ab vah ek poonchh ka chooha ho gaya. par sab use chiate. ek poonchh ka chooha , ek poonchh ka chooha. to chooha gaya naee ke pas. naee ne aakhiri poonchh bhi kat di. ab poonchh hi nahin bachi. lekin phir bhi sab choohe ko chiate  bina poonchh ka chooha ,bina poonchh ka chooha.'"
      ]
     },
     "execution_count": 40,
     "metadata": {},
     "output_type": "execute_result"
    }
   ],
   "source": [
    "(rith_txt)"
   ]
  },
  {
   "cell_type": "code",
   "execution_count": 41,
   "metadata": {},
   "outputs": [
    {
     "name": "stdout",
     "output_type": "stream",
     "text": [
      "flesch_reading_ease: 89.04\n",
      "flesch_kincaid_grade:2.8\n",
      "smog_index:5.9\n"
     ]
    }
   ],
   "source": [
    "import textstat \n",
    "\n",
    "flesch_reading_ease=textstat.flesch_reading_ease(rith_txt)\n",
    "flesch_kincaid_grade=textstat.flesch_kincaid_grade(rith_txt)\n",
    "smog_index=textstat.smog_index(rith_txt)\n",
    "\n",
    "print(f'flesch_reading_ease: {flesch_reading_ease}\\nflesch_kincaid_grade:{flesch_kincaid_grade}\\nsmog_index:{smog_index}')"
   ]
  },
  {
   "cell_type": "code",
   "execution_count": 42,
   "metadata": {},
   "outputs": [],
   "source": [
    "import os"
   ]
  },
  {
   "cell_type": "code",
   "execution_count": 46,
   "metadata": {},
   "outputs": [],
   "source": [
    "flesch_reading_ease = {}\n",
    "flesch_kincaid_grade = {}\n",
    "smog_index = {}\n",
    "for i in os.listdir('./data'):\n",
    "    text = ''''''\n",
    "    with open(f'./data/{i}', 'r') as f:\n",
    "        for line in f:\n",
    "            text += line.strip() + ' '\n",
    "        rith_txt = devan_to_roman_rith(text.split('\\n'))\n",
    "        flesch_reading_ease[i]=textstat.flesch_reading_ease(rith_txt)\n",
    "        flesch_kincaid_grade[i]=textstat.flesch_kincaid_grade(rith_txt)\n",
    "        smog_index[i]=textstat.smog_index(rith_txt)"
   ]
  },
  {
   "cell_type": "code",
   "execution_count": 48,
   "metadata": {},
   "outputs": [
    {
     "data": {
      "text/plain": [
       "{'Class 5.txt': 82.04,\n",
       " 'Class 6.txt': 89.75,\n",
       " 'Class 7.txt': 83.25,\n",
       " 'Class 12.txt': 81.33,\n",
       " 'Class 11.txt': 84.68,\n",
       " 'Class 4.txt': 85.49,\n",
       " 'Class 2.txt': 86.5,\n",
       " 'Class 9.txt': 83.86,\n",
       " 'Class 1.txt': 89.04,\n",
       " 'UG_2.txt': 85.99,\n",
       " 'Class 8.txt': 14.44,\n",
       " 'Class 10.txt': 73.17,\n",
       " 'UG.txt': 85.39,\n",
       " 'Class 3.txt': 86.91}"
      ]
     },
     "execution_count": 48,
     "metadata": {},
     "output_type": "execute_result"
    }
   ],
   "source": [
    "flesch_reading_ease"
   ]
  },
  {
   "cell_type": "code",
   "execution_count": 47,
   "metadata": {},
   "outputs": [
    {
     "data": {
      "text/plain": [
       "{'Class 5.txt': 5.4,\n",
       " 'Class 6.txt': 2.5,\n",
       " 'Class 7.txt': 5.0,\n",
       " 'Class 12.txt': 5.7,\n",
       " 'Class 11.txt': 4.4,\n",
       " 'Class 4.txt': 4.1,\n",
       " 'Class 2.txt': 3.7,\n",
       " 'Class 9.txt': 4.7,\n",
       " 'Class 1.txt': 2.8,\n",
       " 'UG_2.txt': 3.9,\n",
       " 'Class 8.txt': 31.4,\n",
       " 'Class 10.txt': 6.8,\n",
       " 'UG.txt': 4.2,\n",
       " 'Class 3.txt': 3.6}"
      ]
     },
     "execution_count": 47,
     "metadata": {},
     "output_type": "execute_result"
    }
   ],
   "source": [
    "flesch_kincaid_grade"
   ]
  },
  {
   "cell_type": "code",
   "execution_count": 49,
   "metadata": {},
   "outputs": [
    {
     "data": {
      "text/plain": [
       "{'Class 5.txt': 6.5,\n",
       " 'Class 6.txt': 6.2,\n",
       " 'Class 7.txt': 7.5,\n",
       " 'Class 12.txt': 7.9,\n",
       " 'Class 11.txt': 6.8,\n",
       " 'Class 4.txt': 6.3,\n",
       " 'Class 2.txt': 5.4,\n",
       " 'Class 9.txt': 7.0,\n",
       " 'Class 1.txt': 5.9,\n",
       " 'UG_2.txt': 6.8,\n",
       " 'Class 8.txt': 14.8,\n",
       " 'Class 10.txt': 8.0,\n",
       " 'UG.txt': 6.2,\n",
       " 'Class 3.txt': 5.1}"
      ]
     },
     "execution_count": 49,
     "metadata": {},
     "output_type": "execute_result"
    }
   ],
   "source": [
    "smog_index"
   ]
  },
  {
   "cell_type": "code",
   "execution_count": null,
   "metadata": {},
   "outputs": [],
   "source": []
  }
 ],
 "metadata": {
  "kernelspec": {
   "display_name": "Python 3",
   "language": "python",
   "name": "python3"
  },
  "language_info": {
   "codemirror_mode": {
    "name": "ipython",
    "version": 3
   },
   "file_extension": ".py",
   "mimetype": "text/x-python",
   "name": "python",
   "nbconvert_exporter": "python",
   "pygments_lexer": "ipython3",
   "version": "3.10.6"
  },
  "orig_nbformat": 4
 },
 "nbformat": 4,
 "nbformat_minor": 2
}
