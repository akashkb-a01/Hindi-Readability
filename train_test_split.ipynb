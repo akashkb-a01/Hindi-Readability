{
 "cells": [
  {
   "cell_type": "code",
   "execution_count": 5,
   "metadata": {},
   "outputs": [],
   "source": [
    "import os"
   ]
  },
  {
   "cell_type": "code",
   "execution_count": 6,
   "metadata": {},
   "outputs": [],
   "source": [
    "!mkdir train\n",
    "!mkdir test"
   ]
  },
  {
   "cell_type": "code",
   "execution_count": 7,
   "metadata": {},
   "outputs": [],
   "source": [
    "for i in os.listdir('./data/'):\n",
    "    with open(f'./data/{i}', 'r') as f:\n",
    "        train = open(f'./train/{i}', 'w')\n",
    "        test = open(f'./test/{i}', 'w')\n",
    "        for line in f:\n",
    "            line = line.strip().split('।')\n",
    "            n = len(line)\n",
    "            train.write('। '.join(line[:(3*n)//5]) + '\\n')\n",
    "            test.write('। '.join(line[(3*n)//5:]) + '\\n')\n",
    "        train.close()\n",
    "        test.close()"
   ]
  }
 ],
 "metadata": {
  "kernelspec": {
   "display_name": "Python 3",
   "language": "python",
   "name": "python3"
  },
  "language_info": {
   "codemirror_mode": {
    "name": "ipython",
    "version": 3
   },
   "file_extension": ".py",
   "mimetype": "text/x-python",
   "name": "python",
   "nbconvert_exporter": "python",
   "pygments_lexer": "ipython3",
   "version": "3.10.6"
  },
  "orig_nbformat": 4
 },
 "nbformat": 4,
 "nbformat_minor": 2
}
